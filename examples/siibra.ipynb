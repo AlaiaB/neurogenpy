{
 "cells": [
  {
   "cell_type": "markdown",
   "id": "ef5f82e5",
   "metadata": {},
   "source": [
    "# Using `siibra-python` to learn gene regulatory networks"
   ]
  },
  {
   "cell_type": "markdown",
   "id": "bebbf623",
   "metadata": {},
   "source": [
    "`siibra-python` allows users to query gene expression data from the Allen brain atlas. [Their documentation](https://siibra-python.readthedocs.io/en/latest/examples/03_data_features/004_gene_expressions.html) provides a full explanation on how it works. \n",
    "\n",
    "First of all, you should determine the atlas, region and genes of interest. After that, you can use `siibra`'s `get_features` to retrieve the desired data."
   ]
  },
  {
   "cell_type": "code",
   "execution_count": null,
   "id": "a3a09151",
   "metadata": {},
   "outputs": [],
   "source": [
    "import siibra\n",
    "import pandas as pd\n",
    "from neurogenpy import BayesianNetwork\n",
    "\n",
    "atlas = siibra.atlases.MULTILEVEL_HUMAN_ATLAS\n",
    "region = atlas.get_region(\"V1\")\n",
    "\n",
    "genes = [\"A_23_P64051\", \"ATP5G1\", \"RAB33B\"]\n",
    "\n",
    "\n",
    "samples = {gene_name: [statistics.mean(f.expression_levels) for \n",
    "                       f in siibra.get_features(region, 'gene', \n",
    "                                                gene=gene_name)] for \n",
    "           gene_name in genes}"
   ]
  },
  {
   "cell_type": "markdown",
   "id": "e86b60e9",
   "metadata": {},
   "source": [
    "Finally, you can learn the network with the `BayesianNetwork` class after creating a `pandas DataFrame`."
   ]
  },
  {
   "cell_type": "code",
   "execution_count": null,
   "id": "2d1033ed",
   "metadata": {},
   "outputs": [],
   "source": [
    "df = pd.DataFrame(samples)\n",
    "\n",
    "bn = BayesianNetwork().fit(df, algorithm=\"fges_merge\", estimation=\"mle\")"
   ]
  }
 ],
 "metadata": {
  "kernelspec": {
   "display_name": "Python 3 (ipykernel)",
   "language": "python",
   "name": "python3"
  },
  "language_info": {
   "codemirror_mode": {
    "name": "ipython",
    "version": 3
   },
   "file_extension": ".py",
   "mimetype": "text/x-python",
   "name": "python",
   "nbconvert_exporter": "python",
   "pygments_lexer": "ipython3",
   "version": "3.8.10"
  }
 },
 "nbformat": 4,
 "nbformat_minor": 5
}
