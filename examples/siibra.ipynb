{
 "cells": [
  {
   "cell_type": "markdown",
   "id": "ef5f82e5",
   "metadata": {},
   "source": [
    "# Using `siibra-python` to learn gene regulatory networks\n",
    "\n",
    "`siibra-python` allows users to query gene expression data from the Allen brain atlas. [Their documentation](https://siibra-python.readthedocs.io/en/latest/examples/03_data_features/004_gene_expressions.html) provides a full explanation on how it works. \n",
    "\n",
    "First of all, you should determine the atlas, region and genes of interest. After that, you can use `siibra`'s `get_features` function to retrieve the desired data. The data provided comes from 6 different donors. Given a region, multiple samples from different locations are obtained for each donor. Each sample provides data from different probes (usually 4 probes). We take the average for all the probes as the value for a particular donor and location."
   ]
  },
  {
   "cell_type": "code",
   "execution_count": 1,
   "id": "a3a09151",
   "metadata": {},
   "outputs": [
    {
     "name": "stderr",
     "output_type": "stream",
     "text": [
      "[siibra:INFO] Version: 0.3a14\n",
      "[siibra:WARNING] This is a development release. Use at your own risk.\n",
      "[siibra:INFO] Please file bugs and issues at https://github.com/FZJ-INM1-BDA/siibra-python.\n",
      "[siibra:INFO] No parcellation specified, using default 'Julich-Brain Cytoarchitectonic Maps 2.9'.\n",
      "[siibra:INFO] Retrieving probe ids for gene CREM\n"
     ]
    },
    {
     "name": "stdout",
     "output_type": "stream",
     "text": [
      "\n",
      "    For retrieving microarray data, siibra connects to the web API of\n",
      "    the Allen Brain Atlas (© 2015 Allen Institute for Brain Science),\n",
      "    available from https://brain-map.org/api/index.html. Any use of the\n",
      "    microarray data needs to be in accordance with their terms of use,\n",
      "    as specified at https://alleninstitute.org/legal/terms-use/.\n",
      "    \n"
     ]
    },
    {
     "name": "stderr",
     "output_type": "stream",
     "text": [
      "[siibra:INFO] Retrieving probe ids for gene ATP5G1\n",
      "[siibra:INFO] Retrieving probe ids for gene RAB33B\n"
     ]
    }
   ],
   "source": [
    "import sys\n",
    "sys.path.append('/home/javier/Documents/master/tfm/neurogenpy')\n",
    "import siibra\n",
    "import statistics\n",
    "import pandas as pd\n",
    "from neurogenpy import BayesianNetwork\n",
    "\n",
    "atlas = siibra.atlases.MULTILEVEL_HUMAN_ATLAS\n",
    "region = atlas.get_region(\"V1\")\n",
    "\n",
    "genes = [\"CREM\", \"ATP5G1\", \"RAB33B\"]\n",
    "\n",
    "\n",
    "samples = {gene_name: [statistics.mean(f.expression_levels) for \n",
    "                       f in siibra.get_features(region, 'gene', \n",
    "                                                gene=gene_name)] for \n",
    "           gene_name in genes}"
   ]
  },
  {
   "cell_type": "markdown",
   "id": "e86b60e9",
   "metadata": {},
   "source": [
    "Then, you can learn the network with the `BayesianNetwork` class after creating a `pandas DataFrame`."
   ]
  },
  {
   "cell_type": "code",
   "execution_count": 6,
   "id": "2d1033ed",
   "metadata": {},
   "outputs": [
    {
     "name": "stdout",
     "output_type": "stream",
     "text": [
      "       CREM    ATP5G1   RAB33B\n",
      "0  5.389167  9.709525  3.81760\n",
      "1  5.435017  9.666150  3.57550\n",
      "2  5.475183  9.812725  3.67285\n",
      "3  5.418250  9.954475  3.72965\n",
      "4  5.440733  9.008950  4.49230\n"
     ]
    },
    {
     "data": {
      "image/png": "[encoded data removed]",
      "text/plain": [
       "<Figure size 432x288 with 1 Axes>"
      ]
     },
     "metadata": {},
     "output_type": "display_data"
    },
    {
     "name": "stdout",
     "output_type": "stream",
     "text": [
      "CREM {'uncond_mean': 5.433495238095238, 'cond_var': 0.04860016692970522, 'parents_coeffs': [], 'parents': []}\n",
      "ATP5G1 {'uncond_mean': 9.024532142857145, 'cond_var': 0.39210540972760805, 'parents_coeffs': [-0.8244179397109443], 'parents': ['CREM']}\n",
      "RAB33B {'uncond_mean': 4.281339999999999, 'cond_var': 0.6899283651657337, 'parents_coeffs': [-0.29881861893417766], 'parents': ['CREM']}\n"
     ]
    }
   ],
   "source": [
    "df = pd.DataFrame(samples)\n",
    "print(df.head())\n",
    "\n",
    "bn = BayesianNetwork().fit(df, data_type=\"continuous\", algorithm=\"cl\", estimation=\"mle\")\n",
    "\n",
    "\n",
    "import networkx as nx\n",
    "import matplotlib.pyplot as plt\n",
    "\n",
    "fig, ax = plt.subplots()\n",
    "nx.draw(bn.graph, with_labels=True, font_weight='bold')\n",
    "\n",
    "ax.set_facecolor('#f0ffe0')\n",
    "ax.axis('off')\n",
    "fig.set_facecolor('#f0ffe0')\n",
    "plt.show()\n",
    "\n",
    "for gene, cpd in bn.get_cpds(genes).items():\n",
    "    print(gene, cpd)"
   ]
  },
  {
   "cell_type": "markdown",
   "id": "8101143b",
   "metadata": {},
   "source": [
    "## Discretization of gene expression data\n",
    "There are multiple ways of discretizing gene expression data. Here, we use a simple one. We use three levels (inhibition, activation and no-change). The value $x^j$ of an instance for gene $X$ is assigned to the category  $$x^{j \\prime} = \\begin{cases}\n",
    "        \\text{activation} & \\text{if } \\log\\left(\\frac{x^j}{\\overline{X}}\\right) > 0.2 \\\\\n",
    "        \\text{inhibition} & \\text{if } \\log\\left(\\frac{x^j}{\\overline{X}}\\right) < 0.2 \\\\\n",
    "        \\text{no-change} & \\text{otherwise}\n",
    "    \\end{cases}$$"
   ]
  },
  {
   "cell_type": "code",
   "execution_count": 7,
   "id": "e7196492",
   "metadata": {},
   "outputs": [
    {
     "name": "stdout",
     "output_type": "stream",
     "text": [
      "   CREM ATP5G1 RAB33B\n",
      "0  no-c   no-c   no-c\n",
      "1  no-c   no-c    inh\n",
      "2  no-c   no-c    inh\n",
      "3  no-c   no-c   no-c\n",
      "4  no-c   no-c   no-c\n"
     ]
    }
   ],
   "source": [
    "df = df.apply(lambda col: pd.cut(col, \n",
    "                                 bins=[-float('inf'), 2 ** (-0.2) * col.mean(),2 ** 0.2 * col.mean(), float('inf')],\n",
    "                                 labels=['inh', 'no-c', 'act']))\n",
    "\n",
    "print(df.head())"
   ]
  },
  {
   "cell_type": "markdown",
   "id": "ece78a0f",
   "metadata": {},
   "source": [
    "Once data is discretized, the network can be learned the usual way:"
   ]
  },
  {
   "cell_type": "code",
   "execution_count": 9,
   "id": "788ae174",
   "metadata": {},
   "outputs": [
    {
     "data": {
      "image/png": "[encoded data removed]",
      "text/plain": [
       "<Figure size 432x288 with 1 Axes>"
      ]
     },
     "metadata": {},
     "output_type": "display_data"
    },
    {
     "name": "stdout",
     "output_type": "stream",
     "text": [
      "CREM\n",
      "+------------+-------------+-------------+--------------+\n",
      "| RAB33B     | RAB33B(act) | RAB33B(inh) | RAB33B(no-c) |\n",
      "+------------+-------------+-------------+--------------+\n",
      "| CREM(no-c) | 1.0         | 1.0         | 1.0          |\n",
      "+------------+-------------+-------------+--------------+\n",
      "ATP5G1\n",
      "+--------------+---------------------+---------------------+---------------------+\n",
      "| RAB33B       | RAB33B(act)         | RAB33B(inh)         | RAB33B(no-c)        |\n",
      "+--------------+---------------------+---------------------+---------------------+\n",
      "| ATP5G1(inh)  | 0.09615384615384616 | 0.26562500000000006 | 0.08870967741935486 |\n",
      "+--------------+---------------------+---------------------+---------------------+\n",
      "| ATP5G1(no-c) | 0.9038461538461539  | 0.734375            | 0.9112903225806452  |\n",
      "+--------------+---------------------+---------------------+---------------------+\n",
      "RAB33B\n",
      "+--------------+----------+\n",
      "| RAB33B(act)  | 0.216667 |\n",
      "+--------------+----------+\n",
      "| RAB33B(inh)  | 0.266667 |\n",
      "+--------------+----------+\n",
      "| RAB33B(no-c) | 0.516667 |\n",
      "+--------------+----------+\n"
     ]
    }
   ],
   "source": [
    "bn = BayesianNetwork().fit(df, data_type=\"discrete\", algorithm=\"cl\", estimation=\"bayesian\")\n",
    "fig, ax = plt.subplots()\n",
    "nx.draw(bn.graph, with_labels=True, font_weight='bold')\n",
    "\n",
    "ax.set_facecolor('#f0ffe0')\n",
    "ax.axis('off')\n",
    "fig.set_facecolor('#f0ffe0')\n",
    "plt.show()\n",
    "\n",
    "for gene, cpd in bn.get_cpds(genes).items():\n",
    "    print(gene)\n",
    "    print(cpd)"
   ]
  }
 ],
 "metadata": {
  "kernelspec": {
   "display_name": "Python 3 (ipykernel)",
   "language": "python",
   "name": "python3"
  },
  "language_info": {
   "codemirror_mode": {
    "name": "ipython",
    "version": 3
   },
   "file_extension": ".py",
   "mimetype": "text/x-python",
   "name": "python",
   "nbconvert_exporter": "python",
   "pygments_lexer": "ipython3",
   "version": "3.8.10"
  }
 },
 "nbformat": 4,
 "nbformat_minor": 5
}
