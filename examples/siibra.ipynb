{
 "cells": [
  {
   "cell_type": "markdown",
   "id": "ef5f82e5",
   "metadata": {},
   "source": [
    "# Using `siibra-python` to learn gene regulatory networks\n",
    "\n",
    "`siibra-python` allows users to query gene expression data from the Allen brain atlas. [Their documentation](https://siibra-python.readthedocs.io/en/latest/examples/03_data_features/004_gene_expressions.html) provides a full explanation on how it works. \n",
    "\n",
    "First of all, you should determine the atlas, region and genes of interest. After that, you can use `siibra`'s `get_features` function to retrieve the desired data. The data provided comes from 6 different donors. Given a region, multiple samples from different locations are obtained for each donor. Each sample provides data from different probes (usually 4 probes). We take the average for all the probes as the value for a particular donor and location."
   ]
  },
  {
   "cell_type": "code",
   "execution_count": 1,
   "id": "a3a09151",
   "metadata": {},
   "outputs": [
    {
     "name": "stderr",
     "output_type": "stream",
     "text": [
      "[siibra:INFO] Version: 0.3a14\n",
      "[siibra:WARNING] This is a development release. Use at your own risk.\n",
      "[siibra:INFO] Please file bugs and issues at https://github.com/FZJ-INM1-BDA/siibra-python.\n"
     ]
    },
    {
     "ename": "ModuleNotFoundError",
     "evalue": "No module named 'neurogenpy'",
     "output_type": "error",
     "traceback": [
      "\u001b[0;31m---------------------------------------------------------------------------\u001b[0m",
      "\u001b[0;31mModuleNotFoundError\u001b[0m                       Traceback (most recent call last)",
      "\u001b[0;32m/tmp/ipykernel_14792/2074049875.py\u001b[0m in \u001b[0;36m<module>\u001b[0;34m\u001b[0m\n\u001b[1;32m      2\u001b[0m \u001b[0;32mimport\u001b[0m \u001b[0mstatistics\u001b[0m\u001b[0;34m\u001b[0m\u001b[0;34m\u001b[0m\u001b[0m\n\u001b[1;32m      3\u001b[0m \u001b[0;32mimport\u001b[0m \u001b[0mpandas\u001b[0m \u001b[0;32mas\u001b[0m \u001b[0mpd\u001b[0m\u001b[0;34m\u001b[0m\u001b[0;34m\u001b[0m\u001b[0m\n\u001b[0;32m----> 4\u001b[0;31m \u001b[0;32mfrom\u001b[0m \u001b[0mneurogenpy\u001b[0m \u001b[0;32mimport\u001b[0m \u001b[0mBayesianNetwork\u001b[0m\u001b[0;34m\u001b[0m\u001b[0;34m\u001b[0m\u001b[0m\n\u001b[0m\u001b[1;32m      5\u001b[0m \u001b[0;34m\u001b[0m\u001b[0m\n\u001b[1;32m      6\u001b[0m \u001b[0matlas\u001b[0m \u001b[0;34m=\u001b[0m \u001b[0msiibra\u001b[0m\u001b[0;34m.\u001b[0m\u001b[0matlases\u001b[0m\u001b[0;34m.\u001b[0m\u001b[0mMULTILEVEL_HUMAN_ATLAS\u001b[0m\u001b[0;34m\u001b[0m\u001b[0;34m\u001b[0m\u001b[0m\n",
      "\u001b[0;31mModuleNotFoundError\u001b[0m: No module named 'neurogenpy'"
     ]
    }
   ],
   "source": [
    "import siibra\n",
    "import statistics\n",
    "import pandas as pd\n",
    "from neurogenpy import BayesianNetwork\n",
    "\n",
    "atlas = siibra.atlases.MULTILEVEL_HUMAN_ATLAS\n",
    "region = atlas.get_region(\"V1\")\n",
    "\n",
    "genes = [\"CREM\", \"ATP5G1\", \"RAB33B\"]\n",
    "\n",
    "\n",
    "samples = {gene_name: [statistics.mean(f.expression_levels) for \n",
    "                       f in siibra.get_features(region, 'gene', \n",
    "                                                gene=gene_name)] for \n",
    "           gene_name in genes}"
   ]
  },
  {
   "cell_type": "markdown",
   "id": "e86b60e9",
   "metadata": {},
   "source": [
    "Finally, you can learn the network with the `BayesianNetwork` class after creating a `pandas DataFrame`."
   ]
  },
  {
   "cell_type": "code",
   "execution_count": 8,
   "id": "2d1033ed",
   "metadata": {},
   "outputs": [
    {
     "name": "stdout",
     "output_type": "stream",
     "text": [
      "       CREM    ATP5G1   RAB33B\n",
      "0  5.389167  9.709525  3.81760\n",
      "1  5.435017  9.666150  3.57550\n",
      "2  5.475183  9.812725  3.67285\n",
      "3  5.418250  9.954475  3.72965\n",
      "4  5.440733  9.008950  4.49230\n"
     ]
    },
    {
     "data": {
      "image/png": "[encoded data removed]",
      "text/plain": [
       "<Figure size 432x288 with 1 Axes>"
      ]
     },
     "metadata": {},
     "output_type": "display_data"
    },
    {
     "ename": "AttributeError",
     "evalue": "'BayesianNetwork' object has no attribute 'get_cpds'",
     "output_type": "error",
     "traceback": [
      "\u001b[0;31m---------------------------------------------------------------------------\u001b[0m",
      "\u001b[0;31mAttributeError\u001b[0m                            Traceback (most recent call last)",
      "\u001b[0;32m/tmp/ipykernel_13532/4069858170.py\u001b[0m in \u001b[0;36m<module>\u001b[0;34m\u001b[0m\n\u001b[1;32m     11\u001b[0m \u001b[0mplt\u001b[0m\u001b[0;34m.\u001b[0m\u001b[0mshow\u001b[0m\u001b[0;34m(\u001b[0m\u001b[0;34m)\u001b[0m\u001b[0;34m\u001b[0m\u001b[0;34m\u001b[0m\u001b[0m\n\u001b[1;32m     12\u001b[0m \u001b[0;34m\u001b[0m\u001b[0m\n\u001b[0;32m---> 13\u001b[0;31m \u001b[0mprint\u001b[0m\u001b[0;34m(\u001b[0m\u001b[0mbn\u001b[0m\u001b[0;34m.\u001b[0m\u001b[0mget_cpds\u001b[0m\u001b[0;34m(\u001b[0m\u001b[0;34m)\u001b[0m\u001b[0;34m)\u001b[0m\u001b[0;34m\u001b[0m\u001b[0;34m\u001b[0m\u001b[0m\n\u001b[0m",
      "\u001b[0;31mAttributeError\u001b[0m: 'BayesianNetwork' object has no attribute 'get_cpds'"
     ]
    }
   ],
   "source": [
    "df = pd.DataFrame(samples)\n",
    "print(df.head())\n",
    "\n",
    "bn = BayesianNetwork().fit(df, data_type=\"continuous\", algorithm=\"cl\", estimation=\"mle\")\n",
    "\n",
    "\n",
    "import networkx as nx\n",
    "import matplotlib.pyplot as plt\n",
    "\n",
    "nx.draw(bn.graph, with_labels=True, font_weight='bold')\n",
    "plt.show()\n",
    "\n",
    "print(bn.get_cpds())"
   ]
  },
  {
   "cell_type": "markdown",
   "id": "8101143b",
   "metadata": {},
   "source": [
    "## Discretization of gene expression data\n",
    "There are multiple ways of discretizing gene expression data. Here, we use a simple one. We use three levels (inhibition, activation and no-change). The value $x^j$ of an instance for gene $X$ is assigned to the category  $$x^{j \\prime} = \\begin{cases}\n",
    "        \\text{activation} & \\text{if } \\log\\left(\\frac{x^j}{\\overline{X}}\\right) > 0.5 \\\\\n",
    "        \\text{inhibition} & \\text{if } \\log\\left(\\frac{x^j}{\\overline{X}}\\right) < 0.5 \\\\\n",
    "        \\text{no-change} & \\text{otherwise}\n",
    "    \\end{cases}$$"
   ]
  },
  {
   "cell_type": "code",
   "execution_count": null,
   "id": "e7196492",
   "metadata": {},
   "outputs": [],
   "source": [
    "df = df.apply(lambda col: pd.cut(col, \n",
    "                                 bins=[-float('inf'), 2 ** (-0.5) * col.mean(),2 ** 0.5 * col.mean(), float('inf')],\n",
    "                                 labels=['Inhibition', 'No-change', 'Activation']))"
   ]
  },
  {
   "cell_type": "markdown",
   "id": "ece78a0f",
   "metadata": {},
   "source": [
    "Once data is discretized, the network can be learnt the usual way:"
   ]
  },
  {
   "cell_type": "code",
   "execution_count": null,
   "id": "788ae174",
   "metadata": {},
   "outputs": [],
   "source": [
    "bn = BayesianNetwork().fit(df, data_type=\"discrete\", algorithm=\"cl\", estimation=\"bayesian\")"
   ]
  }
 ],
 "metadata": {
  "kernelspec": {
   "display_name": "Python 3 (ipykernel)",
   "language": "python",
   "name": "python3"
  },
  "language_info": {
   "codemirror_mode": {
    "name": "ipython",
    "version": 3
   },
   "file_extension": ".py",
   "mimetype": "text/x-python",
   "name": "python",
   "nbconvert_exporter": "python",
   "pygments_lexer": "ipython3",
   "version": "3.8.10"
  }
 },
 "nbformat": 4,
 "nbformat_minor": 5
}
