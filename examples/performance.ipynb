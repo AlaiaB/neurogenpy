{
 "cells": [
  {
   "cell_type": "markdown",
   "id": "34049ad8",
   "metadata": {},
   "source": [
    "# Performance\n",
    "The user is able to compare the graph structure of the network with its actual graph structure using `compare()` function from `BayesianNetwork` class. Different performance measures are available."
   ]
  },
  {
   "cell_type": "code",
   "execution_count": 1,
   "id": "e718facb",
   "metadata": {
    "scrolled": false
   },
   "outputs": [
    {
     "name": "stdout",
     "output_type": "stream",
     "text": [
      "Accuracy: 0.0\n",
      "Confussion matrix:\n",
      "[[0 1]\n",
      " [1 0]]\n"
     ]
    }
   ],
   "source": [
    "from numpy import array\n",
    "from networkx import DiGraph\n",
    "from neurogenpy import BayesianNetwork\n",
    "\n",
    "matrix = array([[0,0], [1,0]])\n",
    "graph = DiGraph()\n",
    "graph.add_nodes_from([1, 2])\n",
    "graph.add_edges_from([(1, 2)])\n",
    "parameters = {1: {'uncond_mean': 0, 'cond_var': 1, 'parents_coeffs': [], 'parents': []}, \n",
    "              2: {'uncond_mean': 0, 'cond_var': 1, 'parents_coeffs': [1], 'parents': [1]}}\n",
    "\n",
    "bn = BayesianNetwork(graph=graph, parameters=parameters)\n",
    "res = bn.compare(matrix, nodes_order=[1, 2], metric='all')\n",
    "\n",
    "print('Accuracy:', res['accuracy'])\n",
    "print('Confussion matrix:')\n",
    "print(res['confusion'])"
   ]
  }
 ],
 "metadata": {
  "kernelspec": {
   "display_name": "Python 3 (ipykernel)",
   "language": "python",
   "name": "python3"
  },
  "language_info": {
   "codemirror_mode": {
    "name": "ipython",
    "version": 3
   },
   "file_extension": ".py",
   "mimetype": "text/x-python",
   "name": "python",
   "nbconvert_exporter": "python",
   "pygments_lexer": "ipython3",
   "version": "3.8.10"
  }
 },
 "nbformat": 4,
 "nbformat_minor": 5
}
