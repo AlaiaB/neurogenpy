{
 "cells": [
  {
   "cell_type": "markdown",
   "id": "34049ad8",
   "metadata": {},
   "source": [
    "# Performance\n",
    "The user is able to compare the graph structure of the network with its actual graph structure using `compare()` function from `BayesianNetwork` class. Different performance measures are available. Let's see an example where the graph structure of the network is 1->2->3->4 and the actual graph structure to be approximated is 1->2<-3->4. Considering the edges directions (using `undirected=False`) shows a different result than not doing it (`undirected=True`), where both structures would be seen as the same."
   ]
  },
  {
   "cell_type": "code",
   "execution_count": 1,
   "id": "e718facb",
   "metadata": {
    "scrolled": false
   },
   "outputs": [
    {
     "name": "stdout",
     "output_type": "stream",
     "text": [
      "Directed case:\n",
      "Accuracy: 0.8333333333333334\n",
      "Confusion matrix:\n",
      "[[2 1]\n",
      " [1 8]]\n",
      "\n",
      "Undirected case:\n",
      "Accuracy : 1.0\n",
      "Confusion matrix:\n",
      "[[3 0]\n",
      " [0 5]]\n"
     ]
    }
   ],
   "source": [
    "import sys \n",
    "sys.path.append(\"/home/javier/Documents/master/tfm/neurogenpy\")\n",
    "from numpy import array\n",
    "from networkx import DiGraph\n",
    "from neurogenpy import BayesianNetwork\n",
    "\n",
    "matrix = array([[0,1,0,0], [0,0,0,0], [0,1,0,1], [0,0,0,0]])\n",
    "graph = DiGraph()\n",
    "graph.add_edge(1, 2)\n",
    "graph.add_edge(2, 3)\n",
    "graph.add_edge(3, 4)\n",
    "\n",
    "# No JPD is needed for this, just the graph structure. \n",
    "\n",
    "bn = BayesianNetwork(graph=graph)\n",
    "res = bn.compare(matrix, nodes_order=[1, 2, 3, 4], metric='all', undirected=False)\n",
    "\n",
    "print('Directed case:')\n",
    "print('Accuracy:', res['accuracy'])\n",
    "print('Confusion matrix:')\n",
    "print(res['confusion'])\n",
    "\n",
    "res = bn.compare(matrix, nodes_order=[1, 2, 3, 4], metric='all', undirected=True)\n",
    "print('\\nUndirected case:')\n",
    "print('Accuracy :', res['accuracy'])\n",
    "print('Confusion matrix:')\n",
    "print(res['confusion'])"
   ]
  }
 ],
 "metadata": {
  "kernelspec": {
   "display_name": "Python 3 (ipykernel)",
   "language": "python",
   "name": "python3"
  },
  "language_info": {
   "codemirror_mode": {
    "name": "ipython",
    "version": 3
   },
   "file_extension": ".py",
   "mimetype": "text/x-python",
   "name": "python",
   "nbconvert_exporter": "python",
   "pygments_lexer": "ipython3",
   "version": "3.8.10"
  }
 },
 "nbformat": 4,
 "nbformat_minor": 5
}
