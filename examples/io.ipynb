{
 "cells": [
  {
   "cell_type": "markdown",
   "id": "7fa3bb8b",
   "metadata": {},
   "source": [
    "# Load and save networks\n",
    "Bayesian networks can be stored and loaded from the BayesianNetwork class or using the classes of the io subpackage ('BIF', 'AdjacencyMatrix', 'GEXF').\n",
    "\n",
    "## Using BayesianNetwork class\n",
    "The network can be read or written using `load` and `save` methods, respectively. Some formats save or load the full Bayesian network and some others can only handle the structure.\n",
    "\n",
    "### Full network\n",
    "There are two formats that manage the full network: JSON and `pgmpy` BIF. The last one is only available in the discrete case."
   ]
  },
  {
   "cell_type": "code",
   "execution_count": 1,
   "id": "7f66ac04",
   "metadata": {},
   "outputs": [
    {
     "name": "stdout",
     "output_type": "stream",
     "text": [
      "Some checking:\n",
      "{'C': {'uncond_mean': 3.0, 'cond_var': 2.0, 'parents_coeffs': [-0.20000000000000004, 0.5], 'parents': ['A', 'B']}}\n"
     ]
    }
   ],
   "source": [
    "from neurogenpy import BayesianNetwork\n",
    "from networkx import DiGraph\n",
    "\n",
    "graph = DiGraph()\n",
    "graph.add_edge('A', 'C')\n",
    "graph.add_edge('B', 'C')\n",
    "graph.add_edge('D', 'E')\n",
    "parameters = {'A': {'uncond_mean': 4, 'cond_var': 3, 'parents_coeffs': [], 'parents': []}, \n",
    "              'B': {'uncond_mean': 5, 'cond_var': 1, 'parents_coeffs': [], 'parents': []},\n",
    "              'C': {'uncond_mean': 3, 'cond_var': 2, 'parents_coeffs': [-0.2, 0.5], 'parents': ['A', 'B']},\n",
    "              'D': {'uncond_mean': 2, 'cond_var': 1, 'parents_coeffs': [], 'parents': []},\n",
    "              'E': {'uncond_mean': 1, 'cond_var': 0.5, 'parents_coeffs': [0.7], 'parents': ['D']}}\n",
    "\n",
    "bn = BayesianNetwork(graph=graph, parameters=parameters, data_type='continuous')\n",
    "\n",
    "bn.save('bn.json')\n",
    "\n",
    "bn2 = BayesianNetwork().load('bn.json')\n",
    "\n",
    "print('Some checking:')\n",
    "print(bn2.get_cpds(['C']))"
   ]
  },
  {
   "cell_type": "markdown",
   "id": "8d9f78a2",
   "metadata": {},
   "source": [
    "### Network structure\n",
    "\n",
    "In the case of a GEXF, CSV, or Apache Parquet file, it only loads the graph structure of the network. In the GEXF case, a `layout_name` argument in `save` allows the user to determine how the positions of the nodes are stored in the file."
   ]
  },
  {
   "cell_type": "code",
   "execution_count": 2,
   "id": "d1df5bd8",
   "metadata": {},
   "outputs": [
    {
     "data": {
      "image/png": "[encoded data removed]",
      "text/plain": [
       "<Figure size 432x288 with 1 Axes>"
      ]
     },
     "metadata": {},
     "output_type": "display_data"
    }
   ],
   "source": [
    "bn.save('bn.gexf')\n",
    "\n",
    "bn2 = BayesianNetwork().load('bn.gexf')\n",
    "\n",
    "import matplotlib.pyplot as plt\n",
    "import networkx as nx\n",
    "\n",
    "nx.draw(bn.graph, with_labels=True, font_weight='bold')\n",
    "plt.show()"
   ]
  },
  {
   "cell_type": "markdown",
   "id": "2fbce8db",
   "metadata": {},
   "source": [
    "## Using io subpackage\n",
    "It is also possible to instantiate a particular `io` class (`JSON`, `GEXF`, `AdjacencyMatrix` or `BIF`) and use `write_file` or `read_file` to load or save Bayesian networks. "
   ]
  },
  {
   "cell_type": "code",
   "execution_count": null,
   "id": "b4cf930a",
   "metadata": {},
   "outputs": [],
   "source": [
    "from neurogenpy import GEXF, AdjacencyMatrix\n",
    "\n",
    "writer = GEXF(bn)\n",
    "writer.write_file(layout_name='circular', communities=True, sizes_method='neighbors')\n",
    "\n",
    "reader = AdjacencyMatrix()\n",
    "bn_structure = reader.read_file('bn_structure.csv')"
   ]
  },
  {
   "cell_type": "markdown",
   "id": "5676dd52",
   "metadata": {},
   "source": [
    "Additionally, the `io` subpackage provides two other methods: `generate` and `convert`. The first one allows the user to get an input/output object from the Bayesian network and the second one to get a Bayesian network (or at least its structure) from an input/output object. In the GEXF and JSON case the input/output object is a string representation of the structure. In the AdjacencyMatrix case, it is a numpy array that represents it. We now show one example of each method."
   ]
  },
  {
   "cell_type": "code",
   "execution_count": 3,
   "id": "a4336ff5",
   "metadata": {
    "scrolled": true
   },
   "outputs": [
    {
     "name": "stdout",
     "output_type": "stream",
     "text": [
      "GEXF representation:\n",
      "<gexf xmlns=\"http://www.gexf.net/1.2draft\" xmlns:xsi=\"http://www.w3.org/2001/XMLSchema-instance\" xsi:schemaLocation=\"http://www.gexf.net/1.2draft http://www.gexf.net/1.2draft/gexf.xsd\" version=\"1.2\">\n",
      "  <meta lastmodifieddate=\"2022-07-12\">\n",
      "    <creator>NetworkX 2.8.4</creator>\n",
      "  </meta>\n",
      "  <graph defaultedgetype=\"directed\" mode=\"static\" name=\"\">\n",
      "    <nodes>\n",
      "      <node id=\"A\" label=\"A\" />\n",
      "      <node id=\"C\" label=\"C\" />\n",
      "      <node id=\"B\" label=\"B\" />\n",
      "      <node id=\"D\" label=\"D\" />\n",
      "      <node id=\"E\" label=\"E\" />\n",
      "    </nodes>\n",
      "    <edges>\n",
      "      <edge source=\"A\" target=\"C\" id=\"0\" />\n",
      "      <edge source=\"B\" target=\"C\" id=\"1\" />\n",
      "      <edge source=\"D\" target=\"E\" id=\"2\" />\n",
      "    </edges>\n",
      "  </graph>\n",
      "</gexf>\n"
     ]
    }
   ],
   "source": [
    "from neurogenpy import JSON, GEXF\n",
    "\n",
    "writer = GEXF(bn)\n",
    "\n",
    "print('GEXF representation:')\n",
    "print(writer.generate())"
   ]
  },
  {
   "cell_type": "code",
   "execution_count": 4,
   "id": "45c4fc02",
   "metadata": {},
   "outputs": [
    {
     "data": {
      "image/png": "[encoded data removed]",
      "text/plain": [
       "<Figure size 432x288 with 1 Axes>"
      ]
     },
     "metadata": {},
     "output_type": "display_data"
    }
   ],
   "source": [
    "json_str = r\"\"\"{\"graph\": {\"directed\": true, \"multigraph\": false, \"graph\": {}, \"nodes\": [{\"id\": \"A\"}, {\"id\": \"C\"}], \n",
    "\"links\": [{\"source\": \"A\", \"target\": \"C\"}]}, \n",
    "\"parameters\": {\n",
    "    \"A\": {\"uncond_mean\": 4, \"cond_var\": 3, \"parents_coeffs\": [], \"parents\": []}, \n",
    "    \"C\": {\"uncond_mean\": 3, \"cond_var\": 2, \"parents_coeffs\": [-0.2], \"parents\": [\"A\"]}}, \n",
    "\"data_type\": \"continuous\"}\"\"\"\n",
    "reader = JSON()\n",
    "bn2 = reader.convert(json_str)\n",
    "\n",
    "\n",
    "nx.draw(bn2.graph, with_labels=True, font_weight='bold')\n",
    "plt.show()"
   ]
  }
 ],
 "metadata": {
  "kernelspec": {
   "display_name": "Python 3 (ipykernel)",
   "language": "python",
   "name": "python3"
  },
  "language_info": {
   "codemirror_mode": {
    "name": "ipython",
    "version": 3
   },
   "file_extension": ".py",
   "mimetype": "text/x-python",
   "name": "python",
   "nbconvert_exporter": "python",
   "pygments_lexer": "ipython3",
   "version": "3.8.10"
  }
 },
 "nbformat": 4,
 "nbformat_minor": 5
}
