{
 "cells": [
  {
   "cell_type": "markdown",
   "id": "7fa3bb8b",
   "metadata": {},
   "source": [
    "# Load and save networks\n",
    "Bayesian networks can be stored and loaded from the BayesianNetwork class or using the classes of the io subpackage ('BIF', 'AdjacencyMatrix', 'GEXF')."
   ]
  },
  {
   "cell_type": "markdown",
   "id": "fcb759b5",
   "metadata": {},
   "source": [
    "## Using BayesianNetwork class"
   ]
  },
  {
   "cell_type": "markdown",
   "id": "fb642bbc",
   "metadata": {},
   "source": [
    "### BIF file (pgmpy)\n",
    "It loads the graph structure and the parameters of the network."
   ]
  },
  {
   "cell_type": "code",
   "execution_count": null,
   "id": "7f66ac04",
   "metadata": {},
   "outputs": [],
   "source": [
    "import pandas as pd\n",
    "\n",
    "from neurogenpy import BayesianNetwork"
   ]
  },
  {
   "cell_type": "code",
   "execution_count": null,
   "id": "df68def0",
   "metadata": {},
   "outputs": [],
   "source": [
    "bn = BayesianNetwork().load('bn.bif')\n",
    "\n",
    "bn.save('new_path.bif')"
   ]
  },
  {
   "cell_type": "markdown",
   "id": "8d9f78a2",
   "metadata": {},
   "source": [
    "### GEXF, CSV or parquet file \n",
    "In the case of a GEXF (graph stored with .gexf extension), CSV (adjacency matrix stored with\n",
    "'.csv') or parquet (adjacency matrix stored with '.gzip' extension) file, it only loads the graph structure of the network. The parameters can be learnt according to this graph and the initial data."
   ]
  },
  {
   "cell_type": "code",
   "execution_count": null,
   "id": "d1df5bd8",
   "metadata": {},
   "outputs": [],
   "source": [
    "bn1 = BayesianNetwork().load('bn1.gexf')\n",
    "bn2 = BayesianNetwork().load('bn2.gexf')\n",
    "\n",
    "bn1.merge_graph(bn2)\n",
    "\n",
    "bn1.save('merged_bn.gexf')"
   ]
  },
  {
   "cell_type": "markdown",
   "id": "2fbce8db",
   "metadata": {},
   "source": [
    "## Using io subpackage"
   ]
  }
 ],
 "metadata": {
  "kernelspec": {
   "display_name": "Python 3 (ipykernel)",
   "language": "python",
   "name": "python3"
  },
  "language_info": {
   "codemirror_mode": {
    "name": "ipython",
    "version": 3
   },
   "file_extension": ".py",
   "mimetype": "text/x-python",
   "name": "python",
   "nbconvert_exporter": "python",
   "pygments_lexer": "ipython3",
   "version": "3.8.10"
  }
 },
 "nbformat": 4,
 "nbformat_minor": 5
}
