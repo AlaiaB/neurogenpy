{
 "cells": [
  {
   "cell_type": "markdown",
   "id": "7fa3bb8b",
   "metadata": {},
   "source": [
    "# Load and save networks\n",
    "Bayesian networks can be stored and loaded from the BayesianNetwork class or using the classes of the io subpackage ('BIF', 'AdjacencyMatrix', 'GEXF').\n",
    "\n",
    "## Using BayesianNetwork class\n",
    "\n",
    "### Full network\n",
    "\n",
    "#### JSON file\n",
    "\n"
   ]
  },
  {
   "cell_type": "code",
   "execution_count": null,
   "id": "7f66ac04",
   "metadata": {},
   "outputs": [],
   "source": [
    "import pandas as pd\n",
    "\n",
    "from neurogenpy import BayesianNetwork"
   ]
  },
  {
   "cell_type": "markdown",
   "id": "07630135",
   "metadata": {},
   "source": [
    "#### BIF (pgmpy)\n",
    "It loads the graph structure and the parameters of the network."
   ]
  },
  {
   "cell_type": "code",
   "execution_count": null,
   "id": "df68def0",
   "metadata": {},
   "outputs": [],
   "source": [
    "bn = BayesianNetwork().load('bn.bif')\n",
    "\n",
    "bn.save('new_path.bif')"
   ]
  },
  {
   "cell_type": "markdown",
   "id": "8d9f78a2",
   "metadata": {},
   "source": [
    "### Network structure\n",
    "\n",
    "#### 1. GEXF\n",
    "In the case of a GEXF (graph stored with .gexf extension) it only loads the graph structure of the network. The parameters can be learnt according to this graph and the initial data."
   ]
  },
  {
   "cell_type": "code",
   "execution_count": null,
   "id": "d1df5bd8",
   "metadata": {},
   "outputs": [],
   "source": [
    "bn1 = BayesianNetwork().load('bn1.gexf')\n",
    "bn2 = BayesianNetwork().load('bn2.gexf')\n",
    "\n",
    "bn1.merge_graph(bn2)\n",
    "\n",
    "bn1.save('merged_bn.gexf')"
   ]
  },
  {
   "cell_type": "markdown",
   "id": "65ccb855",
   "metadata": {},
   "source": [
    "#### 2. CSV or parquet\n",
    "\n",
    "CSV (adjacency matrix stored with '.csv'), parquet (adjacency matrix stored with '.gzip' extension),"
   ]
  },
  {
   "cell_type": "markdown",
   "id": "2fbce8db",
   "metadata": {},
   "source": [
    "## Using io subpackage\n",
    "It is also possible to instantiate a particular `io` class (`JSON`, `GEXF`, `AdjacencyMatrix` or `BIF`) and use `write_file` or `read_file` to load or save Bayesian networks. "
   ]
  },
  {
   "cell_type": "code",
   "execution_count": null,
   "id": "b4cf930a",
   "metadata": {},
   "outputs": [],
   "source": [
    "from neurogenpy import GEXF, AdjacencyMatrix\n",
    "\n",
    "writer = GEXF(bn)\n",
    "writer.write_file(layout_name='circular', communities=True, sizes_method='neighbors')\n",
    "\n",
    "reader = AdjacencyMatrix()\n",
    "bn_structure = reader.read_file('bn_structure.csv')"
   ]
  },
  {
   "cell_type": "markdown",
   "id": "5676dd52",
   "metadata": {},
   "source": [
    "Additionally, the `io` subpackage provides two other methods: `generate()` and `convert()`. The first one allows the user to get an input/output object from the Bayesian network and the second one to get a Bayesian network (or at least its structure) from an input/output object. \n",
    "\n",
    "In the GEXF and JSON case the input/output object is a string representation of the structure. In the AdjacencyMatrix case, it is a numpy array that represents it. Finally, in the BIF case, it is a."
   ]
  },
  {
   "cell_type": "code",
   "execution_count": null,
   "id": "a4336ff5",
   "metadata": {},
   "outputs": [],
   "source": [
    "from neurogenpy import JSON, GEXF\n",
    "\n",
    "writer = JSON(bn)\n",
    "json_str = writer.generate()\n",
    "\n",
    "gexf_str = '' # Fill it with a string that contains a GEXF representation.\n",
    "reader = GEXF()\n",
    "bn_structure = reader.convert(gexf_str)"
   ]
  }
 ],
 "metadata": {
  "kernelspec": {
   "display_name": "Python 3 (ipykernel)",
   "language": "python",
   "name": "python3"
  },
  "language_info": {
   "codemirror_mode": {
    "name": "ipython",
    "version": 3
   },
   "file_extension": ".py",
   "mimetype": "text/x-python",
   "name": "python",
   "nbconvert_exporter": "python",
   "pygments_lexer": "ipython3",
   "version": "3.8.10"
  }
 },
 "nbformat": 4,
 "nbformat_minor": 5
}
