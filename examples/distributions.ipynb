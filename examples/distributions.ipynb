{
 "cells": [
  {
   "cell_type": "markdown",
   "id": "b267e6b9",
   "metadata": {},
   "source": [
    "# Distributions\n",
    "The joint distribution is stored in a `ModifiableJointDistribution` object. This object uses `GaussianJointDistribution` objects (`DiscreteJointDistribution` is not yet available) to represent two different distributions: the initial joint distribution (with no evidence set) and the current joint distribution (taking into account the evidence set by the user). The initial joint distribution is stored in a temporary file in order to recover it if needed and the current joint distribution is kept in memory or also saved in a temporary file depending on the value of the attribute `save_dist`. Saving the distribution is thought for networks with a lot of nodes, where an $N \\times N$ matrix is used. The network is considered big if $N>300$.\n",
    "\n",
    "If you stick to using the `BayesianNetwork` class, the only time you could use any of these classes is when you build a network using the constructor. In that case, you may set the `joint_dist` attribute, a dictionary with a `GaussianJointDistribution` object and a list with the nodes order."
   ]
  },
  {
   "cell_type": "code",
   "execution_count": null,
   "id": "59f6f918",
   "metadata": {},
   "outputs": [],
   "source": [
    "import numpy as np\n",
    "from neurogenpy import BayesianNetwork\n",
    "\n",
    "mu = np.array([0.3, 1.2 , 3.7])\n",
    "sigma = np.array([[], [], []])\n",
    "joint_dist = GaussianJointDistribution(mu=mu, sigma=sigma)\n",
    "nodes_order = ['node 2', 'node 0', 'node 1']\n",
    "\n",
    "dist_dict = {'distribution': joint_dist, 'nodes_order': nodes_order}\n",
    "\n",
    "bn = BayesianNetwork(graph=graph, joint_dist=dist_dict)"
   ]
  },
  {
   "cell_type": "markdown",
   "id": "a7ac7fe8",
   "metadata": {},
   "source": [
    "These distribution objects provide the typical functions for getting the joint distribution from parameters (`from_params()`), condition the distribution on some evidence (`condition()`) or retrieving marginal distributions (`marginal()`), but they are used from the corresponding functions provided in the `BayesianNetwork` class and the user should not use them directly."
   ]
  }
 ],
 "metadata": {
  "kernelspec": {
   "display_name": "Python 3 (ipykernel)",
   "language": "python",
   "name": "python3"
  },
  "language_info": {
   "codemirror_mode": {
    "name": "ipython",
    "version": 3
   },
   "file_extension": ".py",
   "mimetype": "text/x-python",
   "name": "python",
   "nbconvert_exporter": "python",
   "pygments_lexer": "ipython3",
   "version": "3.8.10"
  }
 },
 "nbformat": 4,
 "nbformat_minor": 5
}
