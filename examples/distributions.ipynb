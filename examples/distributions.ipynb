{
 "cells": [
  {
   "cell_type": "markdown",
   "id": "b267e6b9",
   "metadata": {},
   "source": [
    "# Distributions and inference\n",
    "The joint distribution is stored using a `JPD` subclass. Depending on the data type, the used class will be `GaussianJPD` or `DiscreteJPD`. However, there is no need to directly use them. \n",
    "\n",
    "These classes provide the some methods for getting the joint distribution from parameters (`from_parameters`), conditioning the distribution on some evidence (`condition`), or retrieving conditional or marginal distributions (`marginal` or `get_cpds`). These methods are called from the corresponding functions provided in the `BayesianNetwork` class. We will show examples of `condition` and `marginal` in Gaussian and discrete cases.\n",
    "\n",
    "## Gaussian joint probability distribution"
   ]
  },
  {
   "cell_type": "code",
   "execution_count": 1,
   "id": "59f6f918",
   "metadata": {},
   "outputs": [
    {
     "name": "stdout",
     "output_type": "stream",
     "text": [
      "Marginal distribution f(B):\n",
      "{'mu': 5.0, 'sigma': 1.75}\n",
      "\n",
      "New distribution f(B|A=1):\n",
      "{'mu': 3.5, 'sigma': 1.0}\n"
     ]
    }
   ],
   "source": [
    "import sys \n",
    "sys.path.append(\"/home/javier/Documents/master/tfm/neurogenpy\")\n",
    "from neurogenpy import BayesianNetwork\n",
    "from networkx import DiGraph\n",
    "\n",
    "graph = DiGraph()\n",
    "graph.add_edge('A', 'B')\n",
    "graph.add_edge('B', 'C')\n",
    "graph.add_edge('D', 'E')\n",
    "parameters = {'A': {'uncond_mean': 4, 'cond_var': 3, 'parents_coeffs': [], 'parents': []}, \n",
    "              'B': {'uncond_mean': 5, 'cond_var': 1, 'parents_coeffs': [0.5], 'parents': ['A']},\n",
    "              'C': {'uncond_mean': 3, 'cond_var': 2, 'parents_coeffs': [-0.2], 'parents': ['B']},\n",
    "              'D': {'uncond_mean': 2, 'cond_var': 1, 'parents_coeffs': [], 'parents': []},\n",
    "              'E': {'uncond_mean': 1, 'cond_var': 0.5, 'parents_coeffs': [0.7], 'parents': ['D']}}\n",
    "\n",
    "bn = BayesianNetwork(graph=graph, parameters=parameters, data_type='continuous')\n",
    "\n",
    "print('Marginal distribution f(B):')\n",
    "print(bn.marginal(['B'])['B'])\n",
    "\n",
    "bn.set_evidence({'A': 1})\n",
    "print('\\nNew distribution f(B|A=1):')\n",
    "print(bn.condition()['B'])"
   ]
  },
  {
   "cell_type": "markdown",
   "id": "f6b5db37",
   "metadata": {},
   "source": [
    "## Discrete joint probability distribution"
   ]
  },
  {
   "cell_type": "code",
   "execution_count": 2,
   "id": "c0433c06",
   "metadata": {},
   "outputs": [
    {
     "name": "stdout",
     "output_type": "stream",
     "text": [
      "Marginal distribution f(B):\n",
      "{0: 0.19999999999999998, 1: 0.16666666666666666, 2: 0.6333333333333334}\n",
      "\n",
      "New distribution f(B|A=1):\n"
     ]
    },
    {
     "data": {
      "application/vnd.jupyter.widget-view+json": {
       "model_id": "506b8f0c388541c6b246e44cb7f6f3c7",
       "version_major": 2,
       "version_minor": 0
      },
      "text/plain": [
       "0it [00:00, ?it/s]"
      ]
     },
     "metadata": {},
     "output_type": "display_data"
    },
    {
     "data": {
      "application/vnd.jupyter.widget-view+json": {
       "model_id": "cbb519c2b2ae46f0baaf147a5d29761f",
       "version_major": 2,
       "version_minor": 0
      },
      "text/plain": [
       "0it [00:00, ?it/s]"
      ]
     },
     "metadata": {},
     "output_type": "display_data"
    },
    {
     "name": "stdout",
     "output_type": "stream",
     "text": [
      "{0: 0.4, 1: 0.3, 2: 0.3}\n"
     ]
    }
   ],
   "source": [
    "from pgmpy.factors.discrete.CPD import TabularCPD\n",
    "\n",
    "graph = DiGraph()\n",
    "graph.add_edge('A', 'B')\n",
    "\n",
    "cpd1 = TabularCPD('A', 3, [[0.3], [0.3], [0.4]])\n",
    "cpd2 = TabularCPD('B', 3, [[0.1,0.4,0.1], [0.1,0.3,0.1],[0.8,0.3,0.8]], evidence=['A'], evidence_card=[3])\n",
    "\n",
    "parameters = {'A': cpd1, 'B': cpd2}\n",
    "\n",
    "bn = BayesianNetwork(graph=graph, parameters=parameters, data_type='discrete')\n",
    "\n",
    "print('Marginal distribution f(B):')\n",
    "print(bn.marginal(['B'])['B'])\n",
    "\n",
    "bn.set_evidence({'A': 1})\n",
    "print('\\nNew distribution f(B|A=1):')\n",
    "print(bn.condition()['B'])"
   ]
  }
 ],
 "metadata": {
  "kernelspec": {
   "display_name": "Python 3 (ipykernel)",
   "language": "python",
   "name": "python3"
  },
  "language_info": {
   "codemirror_mode": {
    "name": "ipython",
    "version": 3
   },
   "file_extension": ".py",
   "mimetype": "text/x-python",
   "name": "python",
   "nbconvert_exporter": "python",
   "pygments_lexer": "ipython3",
   "version": "3.8.10"
  }
 },
 "nbformat": 4,
 "nbformat_minor": 5
}
