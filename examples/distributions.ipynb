{
 "cells": [
  {
   "cell_type": "markdown",
   "id": "b267e6b9",
   "metadata": {},
   "source": [
    "# Distributions"
   ]
  },
  {
   "cell_type": "markdown",
   "id": "fcc39782",
   "metadata": {},
   "source": [
    "## Using BayesianNetwork class"
   ]
  },
  {
   "cell_type": "markdown",
   "id": "8eae1acf",
   "metadata": {},
   "source": [
    "## Using distributions subpackage"
   ]
  }
 ],
 "metadata": {
  "kernelspec": {
   "display_name": "Python 3 (ipykernel)",
   "language": "python",
   "name": "python3"
  },
  "language_info": {
   "codemirror_mode": {
    "name": "ipython",
    "version": 3
   },
   "file_extension": ".py",
   "mimetype": "text/x-python",
   "name": "python",
   "nbconvert_exporter": "python",
   "pygments_lexer": "ipython3",
   "version": "3.8.10"
  }
 },
 "nbformat": 4,
 "nbformat_minor": 5
}
