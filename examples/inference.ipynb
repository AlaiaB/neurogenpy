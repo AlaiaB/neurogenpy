{
 "cells": [
  {
   "cell_type": "markdown",
   "id": "678c8cc6",
   "metadata": {},
   "source": [
    "# Inference\n",
    "\n",
    "Inference is performed after setting some evidence about some of the nodes in the network. This is achieved using the `set_evidence()` method of the `BayesianNetwork` class.  "
   ]
  },
  {
   "cell_type": "code",
   "execution_count": null,
   "id": "20b49f2f",
   "metadata": {},
   "outputs": [],
   "source": [
    "from neurogenpy import BayesianNetwork\n",
    "\n",
    "nodes_values = {'node 7': 4.35, 'node 3': 0.22}\n",
    "bn.set_evidence(nodes_values)"
   ]
  }
 ],
 "metadata": {
  "kernelspec": {
   "display_name": "Python 3 (ipykernel)",
   "language": "python",
   "name": "python3"
  },
  "language_info": {
   "codemirror_mode": {
    "name": "ipython",
    "version": 3
   },
   "file_extension": ".py",
   "mimetype": "text/x-python",
   "name": "python",
   "nbconvert_exporter": "python",
   "pygments_lexer": "ipython3",
   "version": "3.8.10"
  }
 },
 "nbformat": 4,
 "nbformat_minor": 5
}
