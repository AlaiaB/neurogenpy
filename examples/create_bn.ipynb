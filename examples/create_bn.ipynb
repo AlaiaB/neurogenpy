{
 "cells": [
  {
   "cell_type": "markdown",
   "id": "a35eac7f",
   "metadata": {},
   "source": [
    "# Bayesian network creation\n",
    "The use of the package is focused on the `BayesianNetwork` class. \n",
    "\n",
    "## Using the constructor\n",
    "If you already have a graph structure and the network parameters (or joint probability distribution) in the right formats, it is posible to use the constructor for building the network.\n",
    "\n",
    "The graph structure is represented using a `DiGraph` object from the `networkx` package."
   ]
  },
  {
   "cell_type": "code",
   "execution_count": null,
   "id": "838b4efb",
   "metadata": {},
   "outputs": [],
   "source": [
    "from networkx import DiGraph\n",
    "\n",
    "graph = DiGraph()\n",
    "graph.add_nodes_from([1, 2])\n",
    "graph.add_edges_from([(1, 2)])"
   ]
  },
  {
   "cell_type": "markdown",
   "id": "28f82efa",
   "metadata": {},
   "source": [
    "The network parameters are represented with a dictionary where the keys are the identifiers of the nodes (they must be the same as in the `DiGraph` object) and the values are `GaussianNode` objects (at the moment, the discrete case is not yet supported). `GaussianNode` is just a named tuple with four elements: `mean`, `var`, `parents` and `parents_coeffs`."
   ]
  },
  {
   "cell_type": "code",
   "execution_count": null,
   "id": "800a7105",
   "metadata": {},
   "outputs": [],
   "source": [
    "from neurogenpy import GaussianNode\n",
    "\n",
    "parameters = {1: GaussianNode(0, 1, [], []), 2: GaussianNode(0, 1, [1], [0.8])}"
   ]
  },
  {
   "cell_type": "markdown",
   "id": "8c738d5a",
   "metadata": {},
   "source": [
    "Once you have both the `graph` and `parameters`, the network can be instantiated the usual way."
   ]
  },
  {
   "cell_type": "code",
   "execution_count": null,
   "id": "68063901",
   "metadata": {},
   "outputs": [],
   "source": [
    "from neurogenpy import BayesianNetwork\n",
    "\n",
    "bn = BayesianNetwork(graph=graph, parameters=parameters)"
   ]
  },
  {
   "cell_type": "markdown",
   "id": "b8d2c13f",
   "metadata": {},
   "source": [
    "## Learning the full network from data\n",
    "Learning the structure and parameters of a Bayesian network from the data in a CSV file.\n",
    "\n",
    "First of all, you should create a `pandas DataFrame` from your data with the structure:\n",
    "\n",
    "| Instances  |    Feature 1 |    Feature 2 | ... |    Feature N |\n",
    "|------------|:------------:|:------------:|:---:|:------------:|\n",
    "| Instance 1 | $Value_{11}$ | $Value_{12}$ | ... | $Value_{1N}$ |\n",
    "| Instance 2 | $Value_{21}$ | $Value_{22}$ | ... | $Value_{2N}$ |\n",
    "| ...        |     ...      |       ...    | ... |       ...    |\n",
    "| Instance n | $Value_{n1}$ | $Value_{n2}$ | ... | $Value_{nN}$ |"
   ]
  },
  {
   "cell_type": "code",
   "execution_count": null,
   "id": "b15b348c",
   "metadata": {},
   "outputs": [],
   "source": [
    "import pandas as pd\n",
    "\n",
    "df = pd.read_csv('data.csv')"
   ]
  },
  {
   "cell_type": "markdown",
   "id": "79fba456",
   "metadata": {},
   "source": [
    "### Set the structure and parameter learning methods using arguments\n",
    "Once you have read the file, you can fit it using the `fit` method and setting the structure learning algorithm, estimation method."
   ]
  },
  {
   "cell_type": "code",
   "execution_count": null,
   "id": "7e0c4939",
   "metadata": {},
   "outputs": [],
   "source": [
    "bn = BayesianNetwork().fit(df, data_type='continuous', estimation='mle', algorithm='pc')"
   ]
  },
  {
   "cell_type": "markdown",
   "id": "b4cc0aa6",
   "metadata": {},
   "source": [
    "Additional parameters for the structure learning or parameters estimation algorithm can be provided too."
   ]
  },
  {
   "cell_type": "code",
   "execution_count": null,
   "id": "e3885412",
   "metadata": {},
   "outputs": [],
   "source": [
    "bn = BayesianNetwork().fit(df, data_type='continuous', estimation='mle', algorithm='pc', penalty=0.01)"
   ]
  },
  {
   "cell_type": "markdown",
   "id": "8ee06209",
   "metadata": {},
   "source": [
    "### Instance a particular `LearnStructure` or `LearnParameters` subclass\n",
    "Another option is to use the desired subclass of `LearnStructure` or `LearnParameters`."
   ]
  },
  {
   "cell_type": "code",
   "execution_count": null,
   "id": "83bc1bfb",
   "metadata": {},
   "outputs": [],
   "source": [
    "from neurogenpy import PC, GaussianMLE\n",
    "\n",
    "pc = PC(df, data_type='continuous')\n",
    "\n",
    "mle = GaussianMLE(df)\n",
    "\n",
    "bn = BayesianNetwork().fit(algorithm=pc, estimation=mle)"
   ]
  },
  {
   "cell_type": "markdown",
   "id": "d88e4d4c",
   "metadata": {},
   "source": [
    "## Combinations\n",
    "You can use combinations of the above methods to build your network.\n",
    "\n",
    "If you are only interested in the graph structure, it is possible to just learn the structure and not the parameters by not providing any value for the attribute `estimation`."
   ]
  },
  {
   "cell_type": "code",
   "execution_count": null,
   "id": "cba2be07",
   "metadata": {},
   "outputs": [],
   "source": [
    "bn = BayesianNetwork().fit(df, data_type='continuous', algorithm='pc')"
   ]
  },
  {
   "cell_type": "markdown",
   "id": "7f8fbfc4",
   "metadata": {},
   "source": [
    "On the other hand, if you already have a graph structure and want to learn the parameters, you can provide it in the constructor or load it before calling `fit` with `skip_structure` set to `True`."
   ]
  },
  {
   "cell_type": "code",
   "execution_count": null,
   "id": "5ee993ea",
   "metadata": {},
   "outputs": [],
   "source": [
    "bn = BayesianNetwork(graph=graph)\n",
    "bn.fit(df, data_type='continuous', estimation='mle')\n",
    "\n",
    "bn = BayesianNetwork().load('adjacency_matrix.csv')\n",
    "bn.fit(df, data_type='continuous', estimation='mle')"
   ]
  }
 ],
 "metadata": {
  "kernelspec": {
   "display_name": "Python 3 (ipykernel)",
   "language": "python",
   "name": "python3"
  },
  "language_info": {
   "codemirror_mode": {
    "name": "ipython",
    "version": 3
   },
   "file_extension": ".py",
   "mimetype": "text/x-python",
   "name": "python",
   "nbconvert_exporter": "python",
   "pygments_lexer": "ipython3",
   "version": "3.8.10"
  }
 },
 "nbformat": 4,
 "nbformat_minor": 5
}
