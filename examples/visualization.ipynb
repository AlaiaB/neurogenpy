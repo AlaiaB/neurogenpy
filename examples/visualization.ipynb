{
 "cells": [
  {
   "cell_type": "markdown",
   "id": "82ebb835",
   "metadata": {},
   "source": [
    "# Visualization\n",
    "\n",
    "The graph structure of the network is represented using a `DiGraph` from `networkx`. This package provides functionality for visualizing basic graphs as explained in their [documentation](https://networkx.org/documentation/stable/reference/drawing.html). To plot the graph structure using this, the user will also need to use `matplotlib`. "
   ]
  },
  {
   "cell_type": "code",
   "execution_count": 10,
   "id": "db244471",
   "metadata": {},
   "outputs": [
    {
     "data": {
      "image/png": "[encoded data removed]",
      "text/plain": [
       "<Figure size 432x288 with 1 Axes>"
      ]
     },
     "metadata": {},
     "output_type": "display_data"
    }
   ],
   "source": [
    "import sys\n",
    "sys.path.append('/home/javier/Documents/master/tfm/neurogenpy')\n",
    "import matplotlib.pyplot as plt\n",
    "import networkx as nx\n",
    "from neurogenpy import BayesianNetwork\n",
    "\n",
    "digraph = nx.DiGraph()\n",
    "\n",
    "digraph.add_edge('A', 'B')\n",
    "digraph.add_edge('B', 'C')\n",
    "digraph.add_edge('D', 'E')\n",
    "\n",
    "params = {'A': {'uncond_mean': 4, 'cond_var': 3, 'parents_coeffs': [], 'parents': []},\n",
    "'B': {'uncond_mean': 5, 'cond_var': 1, 'parents_coeffs': [0.5], 'parents': ['A'\n",
    "]},\n",
    "'C': {'uncond_mean': 3, 'cond_var': 2, 'parents_coeffs': [-0.2], 'parents': ['B'\n",
    "]},\n",
    "'D': {'uncond_mean': 2, 'cond_var': 1, 'parents_coeffs': [], 'parents': []},\n",
    "'E': {'uncond_mean': 1, 'cond_var': 0.5, 'parents_coeffs': [0.7], 'parents': ['D'\n",
    "]}}\n",
    "\n",
    "bn = BayesianNetwork(graph=digraph, parameters=params)\n",
    "\n",
    "nx.draw(bn.graph, with_labels=True, font_weight='bold')\n",
    "plt.show()"
   ]
  },
  {
   "cell_type": "markdown",
   "id": "c329b15b",
   "metadata": {},
   "source": [
    "This way of visualizing the network is only recommended for small networks. As graph visualization is a difficult task, we recommend exporting the structure in GEXF format and use a dedicated tool to show it, such as Gephi. Exporting the graph structure is carefully explained in the input/output tutorial."
   ]
  }
 ],
 "metadata": {
  "kernelspec": {
   "display_name": "Python 3 (ipykernel)",
   "language": "python",
   "name": "python3"
  },
  "language_info": {
   "codemirror_mode": {
    "name": "ipython",
    "version": 3
   },
   "file_extension": ".py",
   "mimetype": "text/x-python",
   "name": "python",
   "nbconvert_exporter": "python",
   "pygments_lexer": "ipython3",
   "version": "3.8.10"
  }
 },
 "nbformat": 4,
 "nbformat_minor": 5
}
