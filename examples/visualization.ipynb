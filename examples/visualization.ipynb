{
 "cells": [
  {
   "cell_type": "markdown",
   "id": "82ebb835",
   "metadata": {},
   "source": [
    "# Visualization\n",
    "\n",
    "The graph structure of the network is represented using a `DiGraph` from `networkx`. This package provides functionality for visualizing basic graphs as explained in their [documentation](https://networkx.org/documentation/stable/reference/drawing.html). To plot the graph structure using this, the user will also need to use `matplotlib`. "
   ]
  },
  {
   "cell_type": "code",
   "execution_count": null,
   "id": "db244471",
   "metadata": {},
   "outputs": [],
   "source": [
    "import matplotlib.pyplot as plt\n",
    "import networkx as nx\n",
    "from neurogenpy import BayesianNetwork\n",
    "\n",
    "nx.draw(bn.graph)\n",
    "plt.show()"
   ]
  },
  {
   "cell_type": "markdown",
   "id": "c329b15b",
   "metadata": {},
   "source": [
    "These way of visualizing the network is only recommended for small networks. As graph visualization is a difficult task, we recommend exporting the structure in GEXF format and use a dedicated tool to show it."
   ]
  }
 ],
 "metadata": {
  "kernelspec": {
   "display_name": "Python 3 (ipykernel)",
   "language": "python",
   "name": "python3"
  },
  "language_info": {
   "codemirror_mode": {
    "name": "ipython",
    "version": 3
   },
   "file_extension": ".py",
   "mimetype": "text/x-python",
   "name": "python",
   "nbconvert_exporter": "python",
   "pygments_lexer": "ipython3",
   "version": "3.8.10"
  }
 },
 "nbformat": 4,
 "nbformat_minor": 5
}
