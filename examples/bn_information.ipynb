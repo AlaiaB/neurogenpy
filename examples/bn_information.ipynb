{
 "cells": [
  {
   "cell_type": "markdown",
   "id": "dddc24e5",
   "metadata": {},
   "source": [
    "# Bayesian network information\n",
    "Multiple information can be retrieved once you have created a BayesianNetwork. `markov_blanket()`, `important_nodes()`, `communities()`, `marginal()`, `is_dseparated()`, `reachable_nodes()`"
   ]
  },
  {
   "cell_type": "code",
   "execution_count": null,
   "id": "539c5089",
   "metadata": {},
   "outputs": [],
   "source": []
  }
 ],
 "metadata": {
  "kernelspec": {
   "display_name": "Python 3 (ipykernel)",
   "language": "python",
   "name": "python3"
  },
  "language_info": {
   "codemirror_mode": {
    "name": "ipython",
    "version": 3
   },
   "file_extension": ".py",
   "mimetype": "text/x-python",
   "name": "python",
   "nbconvert_exporter": "python",
   "pygments_lexer": "ipython3",
   "version": "3.8.10"
  }
 },
 "nbformat": 4,
 "nbformat_minor": 5
}
