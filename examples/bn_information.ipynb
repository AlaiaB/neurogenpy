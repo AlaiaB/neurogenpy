{
 "cells": [
  {
   "cell_type": "markdown",
   "id": "dddc24e5",
   "metadata": {},
   "source": [
    "# Bayesian network information\n",
    "Multiple information can be retrieved once you have created a BayesianNetwork using some methods like `markov_blanket`, `important_nodes`, `communities`, `marginal`, `is_dseparated`, `get_cpds`, etc."
   ]
  },
  {
   "cell_type": "code",
   "execution_count": 1,
   "id": "539c5089",
   "metadata": {},
   "outputs": [],
   "source": [
    "from neurogenpy import BayesianNetwork\n",
    "from networkx import DiGraph\n",
    "\n",
    "graph = DiGraph()\n",
    "graph.add_edge('A', 'B')\n",
    "graph.add_edge('B', 'C')\n",
    "graph.add_edge('D', 'E')\n",
    "parameters = {'A': {'uncond_mean': 4, 'cond_var': 3, 'parents_coeffs': [], 'parents': []}, \n",
    "              'B': {'uncond_mean': 5, 'cond_var': 1, 'parents_coeffs': [0.5], 'parents': ['A']},\n",
    "              'C': {'uncond_mean': 3, 'cond_var': 2, 'parents_coeffs': [-0.2], 'parents': ['B']},\n",
    "              'D': {'uncond_mean': 2, 'cond_var': 1, 'parents_coeffs': [], 'parents': []},\n",
    "              'E': {'uncond_mean': 1, 'cond_var': 0.5, 'parents_coeffs': [0.7], 'parents': ['D']}}\n",
    "\n",
    "bn = BayesianNetwork(graph=graph, parameters=parameters, data_type='continuous')"
   ]
  },
  {
   "cell_type": "markdown",
   "id": "1e6d4451",
   "metadata": {},
   "source": [
    "For example, the following queries show the communities (calculated with the Louvain algorithm), the Markov blanket of node A and checks if A and C are d-separated by B."
   ]
  },
  {
   "cell_type": "code",
   "execution_count": 2,
   "id": "98083bd4",
   "metadata": {},
   "outputs": [
    {
     "name": "stdout",
     "output_type": "stream",
     "text": [
      "- Communities: {'A': 1, 'B': 1, 'C': 1, 'D': 0, 'E': 0}\n",
      "- Markov blanket of node A ['A', 'B']\n",
      "- A and C d-separated by B? True\n"
     ]
    }
   ],
   "source": [
    "print('- Communities:', bn.communities())\n",
    "print('- Markov blanket of node A', bn.markov_blanket('A'))\n",
    "print('- A and C d-separated by B?', bn.is_dseparated(['A'], ['C'], ['B']))"
   ]
  }
 ],
 "metadata": {
  "kernelspec": {
   "display_name": "Python 3 (ipykernel)",
   "language": "python",
   "name": "python3"
  },
  "language_info": {
   "codemirror_mode": {
    "name": "ipython",
    "version": 3
   },
   "file_extension": ".py",
   "mimetype": "text/x-python",
   "name": "python",
   "nbconvert_exporter": "python",
   "pygments_lexer": "ipython3",
   "version": "3.8.10"
  }
 },
 "nbformat": 4,
 "nbformat_minor": 5
}
